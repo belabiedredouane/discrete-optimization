{
 "cells": [
  {
   "cell_type": "code",
   "execution_count": 1,
   "metadata": {},
   "outputs": [],
   "source": [
    "import os\n",
    "\n",
    "def solve_it(input_data):\n",
    "    # Modify this code to run your optimization algorithm\n",
    "    \n",
    "    # parse the input\n",
    "    lines = input_data.split('\\n')\n",
    "\n",
    "    first_line = lines[0].split()\n",
    "    node_count = int(first_line[0])\n",
    "    edge_count = int(first_line[1])\n",
    "\n",
    "    edges = []\n",
    "    for i in range(1, edge_count + 1):\n",
    "        line = lines[i]\n",
    "        parts = line.split()\n",
    "        edges.append((int(parts[0]), int(parts[1])))\n",
    "    \n",
    "    with open('python_input.txt', mode='w') as f:\n",
    "        line = str(node_count) + ' ' + str(edge_count) + '\\n'\n",
    "        f.write(line)\n",
    "        for a, b in edges:\n",
    "            line = str(a) + ' ' + str(b) + '\\n'\n",
    "            f.write(line)\n",
    "    \n",
    "    os.system(\"./main\")\n",
    "    \n",
    "    with open('cpp_output.txt', mode='r') as f:\n",
    "        line = f.readline()\n",
    "        line = line[:-1]\n",
    "        color_count = int(line)\n",
    "        line = f.readline()\n",
    "        line = line[:-1]\n",
    "        line = line.split(' ')\n",
    "        solution = [int(num) for num in line]\n",
    "    \n",
    "    # prepare the solution in the specified output format\n",
    "    output_data = str(color_count) + ' ' + str(1) + '\\n'\n",
    "    output_data += ' '.join(map(str, solution))\n",
    "\n",
    "    return output_data"
   ]
  },
  {
   "cell_type": "code",
   "execution_count": 2,
   "metadata": {
    "scrolled": false
   },
   "outputs": [
    {
     "name": "stdout",
     "output_type": "stream",
     "text": [
      "29 1\n",
      "2 1 5 18 4 5 6 7 10 9 10 11 12 13 8 15 16 3 18 19 13 21 22 15 24 8 26 16 20 26 0 16 2 28 21 6 11 24 3 25 5 9 0 16 23 28 4 1 19 12 4 19 10 17 28 2 0 14 6 22 1 17 27 7 14 25 20 3 8 0\n"
     ]
    }
   ],
   "source": [
    "import sys\n",
    "\n",
    "file_location = 'data/gc_70_7'\n",
    "with open(file_location, 'r') as input_data_file:\n",
    "    input_data = input_data_file.read()\n",
    "print(solve_it(input_data))"
   ]
  },
  {
   "cell_type": "code",
   "execution_count": null,
   "metadata": {},
   "outputs": [],
   "source": []
  }
 ],
 "metadata": {
  "kernelspec": {
   "display_name": "Python 3",
   "language": "python",
   "name": "python3"
  },
  "language_info": {
   "codemirror_mode": {
    "name": "ipython",
    "version": 3
   },
   "file_extension": ".py",
   "mimetype": "text/x-python",
   "name": "python",
   "nbconvert_exporter": "python",
   "pygments_lexer": "ipython3",
   "version": "3.6.4"
  }
 },
 "nbformat": 4,
 "nbformat_minor": 2
}
